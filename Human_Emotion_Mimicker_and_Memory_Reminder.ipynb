{
  "nbformat": 4,
  "nbformat_minor": 0,
  "metadata": {
    "colab": {
      "provenance": []
    },
    "kernelspec": {
      "name": "python3",
      "display_name": "Python 3"
    },
    "language_info": {
      "name": "python"
    }
  },
  "cells": [
    {
      "cell_type": "code",
      "source": [
        "import pandas as pd\n",
        "import seaborn as sns\n",
        "import matplotlib.pyplot as plt\n",
        "from nltk.sentiment.vader import SentimentIntensityAnalyzer\n",
        "from wordcloud import WordCloud, STOPWORDS, ImageColorGenerator\n",
        "\n",
        "\n",
        "data = pd.read_csv(\"flipkart_reviews.csv\")\n",
        "print(data.head())"
      ],
      "metadata": {
        "colab": {
          "base_uri": "https://localhost:8080/"
        },
        "id": "XVrHtVaV0395",
        "outputId": "5880d896-a320-452f-f2e1-b1aea10da5fe"
      },
      "execution_count": null,
      "outputs": [
        {
          "output_type": "stream",
          "name": "stdout",
          "text": [
            "                                        Product_name \n",
            "  0  Lenovo Ideapad Gaming 3 Ryzen 5 Hexa Core 5600...   \n",
            " 1  Lenovo Ideapad Gaming 3 Ryzen 5 Hexa Core 5600...   \n",
            " 1  Lenovo Ideapad Gaming 3 Ryzen 5 Hexa Core 5600...   \n",
            " 2  Lenovo Ideapad Gaming 3 Ryzen 5 Hexa Core 5600...   \n",
            " 3  DELL Inspiron Athlon Dual Core 3050U - (4 GB/2...   \n",
            " 4  DELL Inspiron Athlon Dual Core 3050U - (4 GB/2...   \n",
            "\n",
            "                                             Review  Rating  \n",
            " 0  Best under 60k Great performanceI got it for a...       5  \n",
            " 1                                 Good perfomence...       5  \n",
            " 2  Great performance but usually it has also that...       5  \n",
            " 3           My wife is so happy and best product 👌🏻😘       5  \n",
            " 4  Light weight laptop with new amazing features,...       5  \n"
          ]
        }
      ]
    },
    {
      "cell_type": "code",
      "source": [
        "print(data.isnull().sum())"
      ],
      "metadata": {
        "id": "SYq9_pxgzmqL"
      },
      "execution_count": null,
      "outputs": []
    },
    {
      "cell_type": "code",
      "source": [
        "import nltk\n",
        "import re\n",
        "nltk.download('stopwords')\n",
        "stemmer=nltk.SnowballStemmer(\"english\")\n",
        "from nltk.corpus import stopwords\n",
        "import string\n",
        "stopword=set(stopwords.words(\"english\"))\n",
        "\n",
        "def clean(text):\n",
        "    text = str(text).lower()\n",
        "    text = re.sub('\\[.*?\\]', '', text)\n",
        "    text = re.sub('https?://\\S+|www\\.\\S+', '', text)\n",
        "    text = re.sub('<.*?>+', '', text)\n",
        "    text = re.sub('[%s]' % re.escape(string.punctuation), '', text)\n",
        "    text = re.sub('\\n', '', text)\n",
        "    text = re.sub('\\w*\\d\\w*', '', text)\n",
        "    text = [word for word in text.split(' ') if word not in stopword]\n",
        "    text=\" \".join(text)\n",
        "    text = [stemmer.stem(word) for word in text.split(' ')]\n",
        "    text=\" \".join(text)\n",
        "    return text\n",
        "data[\"Review\"] = data[\"Review\"].apply(clean)\n"
      ],
      "metadata": {
        "id": "9GuJmCNZ0udb"
      },
      "execution_count": null,
      "outputs": []
    },
    {
      "cell_type": "code",
      "source": [
        "ratings = data[\"Rating\"].value_counts()\n",
        "numbers = ratings.index\n",
        "quantity = ratings.values\n",
        "\n",
        "import plotly.express as px\n",
        "figure = px.pie(data,\n",
        "             values=quantity,\n",
        "             names=numbers,hole = 0.5)\n",
        "figure.show()"
      ],
      "metadata": {
        "id": "vxJmR9gQ0yuJ"
      },
      "execution_count": null,
      "outputs": []
    },
    {
      "cell_type": "code",
      "source": [
        "text = \" \".join(i for i in data.Review)\n",
        "stopwords = set(STOPWORDS)\n",
        "wordcloud = WordCloud(stopwords=stopwords,\n",
        "                      background_color=\"white\").generate(text)\n",
        "plt.figure( figsize=(15,10))\n",
        "plt.imshow(wordcloud, interpolation='bilinear')\n",
        "plt.axis(\"off\")\n",
        "plt.show()"
      ],
      "metadata": {
        "id": "FyUhUCW64LZY"
      },
      "execution_count": null,
      "outputs": []
    },
    {
      "cell_type": "code",
      "source": [
        "nltk.download('vader_lexicon')\n",
        "sentiments = SentimentIntensityAnalyzer()\n",
        "data[\"Positive\"] = [sentiments.polarity_scores(i)[\"pos\"] for i in data[\"Review\"]]\n",
        "data[\"Negative\"] = [sentiments.polarity_scores(i)[\"neg\"] for i in data[\"Review\"]]\n",
        "data[\"Neutral\"] = [sentiments.polarity_scores(i)[\"neu\"] for i in data[\"Review\"]]\n",
        "data = data[[\"Review\", \"Positive\", \"Negative\", \"Neutral\"]]\n",
        "print(data.head())"
      ],
      "metadata": {
        "id": "3DMoSyvq4d_P"
      },
      "execution_count": null,
      "outputs": []
    },
    {
      "cell_type": "code",
      "source": [
        "x = sum(data[\"Positive\"])\n",
        "y = sum(data[\"Negative\"])\n",
        "z = sum(data[\"Neutral\"])\n",
        "\n",
        "def sentiment_score(a, b, c):\n",
        "    if (a>b) and (a>c):\n",
        "        print(\"Positive 😊 \")\n",
        "    elif (b>a) and (b>c):\n",
        "        print(\"Negative 😠 \")\n",
        "    else:\n",
        "        print(\"Neutral 🙂 \")\n",
        "sentiment_score(x, y, z)\n"
      ],
      "metadata": {
        "id": "sV2I9EMJ4jCx"
      },
      "execution_count": null,
      "outputs": []
    },
    {
      "cell_type": "code",
      "source": [
        "print(\"Positive: \", x)\n",
        "print(\"Negative: \", y)\n",
        "print(\"Neutral: \", z)\n"
      ],
      "metadata": {
        "id": "FbmZg2TR4oT2"
      },
      "execution_count": null,
      "outputs": []
    },
    {
      "cell_type": "code",
      "source": [
        "import gensim.downloader as api\n",
        "from sklearn.cluster import KMeans\n",
        "import numpy as np"
      ],
      "metadata": {
        "id": "TLIJH8zvvx0k"
      },
      "execution_count": null,
      "outputs": []
    },
    {
      "cell_type": "code",
      "source": [
        "wv = api.load('word2vec-google-news-300')"
      ],
      "metadata": {
        "id": "hNPeUl4A8B3G"
      },
      "execution_count": null,
      "outputs": []
    },
    {
      "cell_type": "code",
      "source": [
        "def group_synonyms(words):\n",
        "    word_vectors = [wv[word] for word in words]\n",
        "    X = np.array(word_vectors)\n",
        "    kmeans = KMeans(n_clusters=2, random_state=0).fit(X)\n",
        "    synonyms = {}\n",
        "    for i, word in enumerate(words):\n",
        "        label = kmeans.labels_[i]\n",
        "        if label not in synonyms:\n",
        "            synonyms[label] = []\n",
        "        synonyms[label].append(word)\n",
        "    return synonyms"
      ],
      "metadata": {
        "id": "8pUI9c6W82-m"
      },
      "execution_count": null,
      "outputs": []
    },
    {
      "cell_type": "code",
      "source": [
        "import pandas as pd\n",
        "import nltk\n",
        "from nltk.corpus import stopwords\n",
        "from nltk.tokenize import word_tokenize\n",
        "from sklearn.feature_extraction.text import TfidfVectorizer\n",
        "from sklearn.metrics.pairwise import cosine_similarity"
      ],
      "metadata": {
        "id": "8Pi_wxx49JU2"
      },
      "execution_count": null,
      "outputs": []
    },
    {
      "cell_type": "code",
      "source": [
        "nltk.download('stopwords')\n",
        "nltk.download('punkt')"
      ],
      "metadata": {
        "id": "5_Fx92Bh8tyb"
      },
      "execution_count": null,
      "outputs": []
    },
    {
      "cell_type": "code",
      "source": [
        "def preprocess_text(text):\n",
        "    tokens = word_tokenize(text.lower())\n",
        "    stop_words = set(stopwords.words('english'))\n",
        "    tokens = [token for token in tokens if token.isalnum() and token not in stop_words]\n",
        "    return ' '.join(tokens)"
      ],
      "metadata": {
        "id": "m7Vpe4qYlDBr"
      },
      "execution_count": null,
      "outputs": []
    },
    {
      "cell_type": "code",
      "source": [
        "def generate_empathetic_response(sentiment):\n",
        "    empathetic_responses = [\n",
        "  {\"emotion\": \"happy\", \"response\": \"Congratulations! You must be feeling overjoyed.\"},\n",
        "  {\"emotion\": \"sad\", \"response\": \"Don't worry, everything will be okay.\"},\n",
        "  {\"emotion\": \"neutral\", \"response\": \"I see. Well, whatever you're going through, remember that I'm here to support you.\"},\n",
        "  {\"emotion\": \"angry\", \"response\": \"It's understandable to feel angry. Can you tell me more about what happened?\"},\n",
        "  {\"emotion\": \"frustrated\", \"response\": \"That sounds frustrating. Is there anything I can help you with?\"},\n",
        "  {\"emotion\": \"excited\", \"response\": \"That's exciting news! Tell me more about it.\"},\n",
        "  {\"emotion\": \"scared\", \"response\": \"It's okay to feel scared. What can I do to help you feel calmer?\"},\n",
        "  {\"emotion\": \"worried\", \"response\": \"Don't worry, we can figure this out together. What are you worried about?\"},\n",
        "  {\"emotion\": \"grateful\", \"response\": \"That's wonderful! It's always nice to feel grateful.\"},\n",
        "  {\"emotion\": \"proud\", \"response\": \"You should be proud! That's a great accomplishment.\"},\n",
        "  {\"emotion\": \"confused\", \"response\": \"It sounds like you're feeling confused. Let me see if I can help clarify things.\"},\n",
        "  {\"emotion\": \"disappointed\", \"response\": \"I understand you're feeling disappointed. Is there anything I can do to help?\"},\n",
        "  {\"emotion\": \"hopeful\", \"response\": \"That's a positive outlook! What are you hopeful about?\"},\n",
        "  {\"emotion\": \"inspired\", \"response\": \"That's inspiring! What can I do to help you achieve your goals?\"},\n",
        "  {\"emotion\": \"lonely\", \"response\": \"I understand feeling lonely.  Would you like to talk about it?\"},\n",
        "  {\"emotion\": \"stressed\", \"response\": \"It sounds like you're feeling stressed.  What can I do to help you relax?\"},\n",
        "  {\"emotion\": \"motivated\", \"response\": \"That's great that you're feeling motivated! What are you working towards?\"},\n",
        "  {\"emotion\": \"anxious\", \"response\": \"Don't worry, take a deep breath.  Is there anything I can help you with to feel less anxious?\"},\n",
        "  {\"emotion\": \"content\", \"response\": \"That sounds like a peaceful state. What makes you feel content?\"},\n",
        "  {\"emotion\": \"surprised\", \"response\": \"Wow, that's surprising! Tell me more about it.\"},\n",
        "  {\"emotion\": \"embarrassed\", \"response\": \"Everyone feels embarrassed sometimes. Don't worry about it.\"},\n",
        "  {\"emotion\": \"jealous\", \"response\": \"It's okay to feel jealous sometimes. How can I help you focus on your own goals?\"},\n",
        "  {\"emotion\": \"energetic\", \"response\": \"That's great that you're feeling energetic! What are you going to do with all that energy?\"},\n",
        "  {\"emotion\": \"relaxed\", \"response\": \"That sounds like a nice way to be. What helped you feel relaxed?\"},\n",
        "  {\"emotion\": \"curious\", \"response\": \"That's a great question!  Let's see if we can find the answer together.\"},\n",
        "  {\"emotion\": \"bored\", \"response\": \"I understand feeling bored.  Is there anything I can suggest to keep you entertained?\"},\n",
        "  {\"emotion\": \"creative\", \"response\": \"That's fantastic! What are you feeling creative about?\"},\n",
        "  {\"emotion\": \"nostalgic\", \"response\": \"It's nice to reminisce sometimes. What are you feeling nostalgic about?\"},\n",
        "  {\"emotion\": \"determined\", \"response\": \"That's a great attitude to have! What are you determined to achieve?\"},\n",
        "  {\"emotion\": \"sleepy\", \"response\": \"It sounds like you need some rest.  Would you like me to tell you a story?\"}\n",
        "]\n",
        "\n",
        "    return empathetic_responses.get(sentiment, \"I understand.\")"
      ],
      "metadata": {
        "id": "U4wJ2vTFnja5"
      },
      "execution_count": null,
      "outputs": []
    },
    {
      "cell_type": "code",
      "source": [
        "def load_stories_from_csv(file_path):\n",
        "    try:\n",
        "        df = pd.read_csv(file_path)\n",
        "        return df['Story'].tolist()\n",
        "    except FileNotFoundError:\n",
        "        print(\"Error: CSV file not found.\")\n",
        "        return []"
      ],
      "metadata": {
        "id": "7XUMvnDSlFf5"
      },
      "execution_count": null,
      "outputs": []
    },
    {
      "cell_type": "code",
      "source": [
        "def train_vectorizer(stories):\n",
        "    vectorizer = TfidfVectorizer()\n",
        "    X = vectorizer.fit_transform(stories)\n",
        "    return vectorizer, X"
      ],
      "metadata": {
        "id": "WJyB5jUBlHS1"
      },
      "execution_count": null,
      "outputs": []
    },
    {
      "cell_type": "code",
      "source": [
        "def get_user_input():\n",
        "    return input(\"Enter your situation: \")"
      ],
      "metadata": {
        "id": "Q5-sCTmtlIez"
      },
      "execution_count": null,
      "outputs": []
    },
    {
      "cell_type": "code",
      "source": [
        "def find_most_similar_story(user_input, vectorizer, X, stories):\n",
        "    preprocessed_input = preprocess_text(user_input)\n",
        "    user_vector = vectorizer.transform([preprocessed_input])\n",
        "    similarities = cosine_similarity(user_vector, X)\n",
        "    closest_story_index = similarities.argmax()\n",
        "    return stories[closest_story_index]"
      ],
      "metadata": {
        "id": "RLIK52JVl1-t"
      },
      "execution_count": null,
      "outputs": []
    },
    {
      "cell_type": "code",
      "source": [
        "def main():\n",
        "    stories = load_stories_from_csv(\"50_greatest_stories_of_all_time.txt\")\n",
        "    if not stories:\n",
        "        return\n",
        "    vectorizer, X = train_vectorizer(stories)\n",
        "    user_input = get_user_input()\n",
        "    closest_story = find_most_similar_story(user_input, vectorizer, X, stories)\n",
        "    print(\"\\nClosest story to your situation:\")\n",
        "    print(closest_story)"
      ],
      "metadata": {
        "id": "Tcn72Dlwl5It"
      },
      "execution_count": null,
      "outputs": []
    },
    {
      "cell_type": "code",
      "source": [
        "if __name__ == \"__main__\":\n",
        "    main()"
      ],
      "metadata": {
        "id": "7gWKqrT2mmAu",
        "colab": {
          "base_uri": "https://localhost:8080/"
        },
        "outputId": "d38065e8-33e1-43ee-8997-521934153616"
      },
      "execution_count": null,
      "outputs": [
        {
          "output_type": "stream",
          "name": "stdout",
          "text": [
            "Enter your situation: I just got promoted at work and I'm feeling ecstatic!\n",
            "Congratulations on your promotion! You must be feeling overjoyed. To keep the positive energy flowing, I recommend reading \"The Great Gatsby\" by F. Scott Fitzgerald. While not directly related to your situation, this classic novel captures the essence of celebration and the pursuit of dreams, reminding us to cherish life's triumphs and enjoy the journey ahead.\n"
          ]
        }
      ]
    },
    {
      "cell_type": "code",
      "source": [
        "if __name__ == \"__main__\":\n",
        "    main()"
      ],
      "metadata": {
        "id": "hPv93Apkm3ji",
        "colab": {
          "base_uri": "https://localhost:8080/"
        },
        "outputId": "d0b76630-3d20-47cb-971d-37f123730e14"
      },
      "execution_count": null,
      "outputs": [
        {
          "output_type": "stream",
          "name": "stdout",
          "text": [
            "Enter your situation: I'm struggling to cope with the loss of a loved one.\n",
            "Don't worry, everything will be okay. You should read this story about coping with loss in \"The Book Thief\" by Markus Zusak. The protagonist, Liesel Meminger, also experienced profound loss and grief. However, through her love for books and her connections with others, she found solace and strength to navigate through difficult times.\n"
          ]
        }
      ]
    },
    {
      "cell_type": "code",
      "source": [
        "if __name__ == \"__main__\":\n",
        "    main()"
      ],
      "metadata": {
        "colab": {
          "base_uri": "https://localhost:8080/"
        },
        "id": "q6fgEZ819IDA",
        "outputId": "b64225f9-e830-4c72-823e-5f44fb266628"
      },
      "execution_count": null,
      "outputs": [
        {
          "output_type": "stream",
          "name": "stdout",
          "text": [
            "Enter your situation: I'm feeling overwhelmed with work and responsibilities.\n",
            "Don't worry, everything will be okay. You should read this story about a hardworking and determined individual in \"The Shawshank Redemption\" by Stephen King. Just like you, the protagonist, Andy Dufresne, faced overwhelming challenges and responsibilities. However, through perseverance and resilience, he found ways to overcome obstacles and ultimately achieve freedom and redemption.\n"
          ]
        }
      ]
    },
    {
      "cell_type": "code",
      "source": [],
      "metadata": {
        "id": "qk_MDRgE9J1X"
      },
      "execution_count": null,
      "outputs": []
    }
  ]
}